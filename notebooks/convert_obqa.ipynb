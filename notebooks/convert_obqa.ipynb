{
 "cells": [
  {
   "cell_type": "code",
   "execution_count": null,
   "metadata": {},
   "outputs": [
    {
     "data": {
      "text/plain": [
       "'/home/stud/liao/shen/flamingo-gnn'"
      ]
     },
     "execution_count": null,
     "metadata": {},
     "output_type": "execute_result"
    }
   ],
   "source": [
    "import os\n",
    "\n",
    "if 'runonce' not in locals():\n",
    "    os.chdir('..')\n",
    "    runonce = True\n",
    "os.getcwd()"
   ]
  },
  {
   "attachments": {},
   "cell_type": "markdown",
   "metadata": {},
   "source": [
    "# Convert OBQA data to our format."
   ]
  },
  {
   "cell_type": "code",
   "execution_count": null,
   "metadata": {},
   "outputs": [],
   "source": [
    "import pickle\n",
    "import shutil\n",
    "from pathlib import Path\n",
    "\n",
    "import srsly\n",
    "from tqdm import tqdm\n",
    "\n",
    "original_statement_paths = {\n",
    "    'train': 'data/obqa/statement_origin/train.statement.jsonl',\n",
    "    'dev': 'data/obqa/statement_origin/dev.statement.jsonl',\n",
    "    'test': 'data/obqa/statement_origin/test.statement.jsonl'\n",
    "}\n",
    "processed_statement_paths = {\n",
    "    'train': 'data/obqa/statement/train.statement.jsonl',\n",
    "    'dev': 'data/obqa/statement/dev.statement.jsonl',\n",
    "    'test': 'data/obqa/statement/test.statement.jsonl'\n",
    "}\n",
    "original_subgraph_paths = {\n",
    "    'train':  'data/obqa/graph/train.graph.adj.pk',\n",
    "    'dev': 'data/obqa/graph/dev.graph.adj.pk',\n",
    "    'test': 'data/obqa/graph/test.graph.adj.pk'\n",
    "}\n",
    "processed_subgraph_dir = {\n",
    "    'train':  'data/obqa/adj/train/',\n",
    "    'dev': 'data/obqa/adj/dev/',\n",
    "    'test': 'data/obqa/adj/test/'\n",
    "}"
   ]
  },
  {
   "attachments": {},
   "cell_type": "markdown",
   "metadata": {},
   "source": [
    "## 1. Convert Statement"
   ]
  },
  {
   "attachments": {},
   "cell_type": "markdown",
   "metadata": {},
   "source": [
    "The original statement format:"
   ]
  },
  {
   "cell_type": "code",
   "execution_count": null,
   "metadata": {},
   "outputs": [
    {
     "name": "stdout",
     "output_type": "stream",
     "text": [
      "\u001b[1;39m{\n",
      "  \u001b[0m\u001b[34;1m\"id\"\u001b[0m\u001b[1;39m: \u001b[0m\u001b[0;32m\"7-980\"\u001b[0m\u001b[1;39m,\n",
      "  \u001b[0m\u001b[34;1m\"question\"\u001b[0m\u001b[1;39m: \u001b[0m\u001b[1;39m{\n",
      "    \u001b[0m\u001b[34;1m\"stem\"\u001b[0m\u001b[1;39m: \u001b[0m\u001b[0;32m\"The sun is responsible for\"\u001b[0m\u001b[1;39m,\n",
      "    \u001b[0m\u001b[34;1m\"choices\"\u001b[0m\u001b[1;39m: \u001b[0m\u001b[1;39m[\n",
      "      \u001b[1;39m{\n",
      "        \u001b[0m\u001b[34;1m\"text\"\u001b[0m\u001b[1;39m: \u001b[0m\u001b[0;32m\"puppies learning new tricks\"\u001b[0m\u001b[1;39m,\n",
      "        \u001b[0m\u001b[34;1m\"label\"\u001b[0m\u001b[1;39m: \u001b[0m\u001b[0;32m\"A\"\u001b[0m\u001b[1;39m\n",
      "      \u001b[1;39m}\u001b[0m\u001b[1;39m,\n",
      "      \u001b[1;39m{\n",
      "        \u001b[0m\u001b[34;1m\"text\"\u001b[0m\u001b[1;39m: \u001b[0m\u001b[0;32m\"children growing up and getting old\"\u001b[0m\u001b[1;39m,\n",
      "        \u001b[0m\u001b[34;1m\"label\"\u001b[0m\u001b[1;39m: \u001b[0m\u001b[0;32m\"B\"\u001b[0m\u001b[1;39m\n",
      "      \u001b[1;39m}\u001b[0m\u001b[1;39m,\n",
      "      \u001b[1;39m{\n",
      "        \u001b[0m\u001b[34;1m\"text\"\u001b[0m\u001b[1;39m: \u001b[0m\u001b[0;32m\"flowers wilting in a vase\"\u001b[0m\u001b[1;39m,\n",
      "        \u001b[0m\u001b[34;1m\"label\"\u001b[0m\u001b[1;39m: \u001b[0m\u001b[0;32m\"C\"\u001b[0m\u001b[1;39m\n",
      "      \u001b[1;39m}\u001b[0m\u001b[1;39m,\n",
      "      \u001b[1;39m{\n",
      "        \u001b[0m\u001b[34;1m\"text\"\u001b[0m\u001b[1;39m: \u001b[0m\u001b[0;32m\"plants sprouting, blooming and wilting\"\u001b[0m\u001b[1;39m,\n",
      "        \u001b[0m\u001b[34;1m\"label\"\u001b[0m\u001b[1;39m: \u001b[0m\u001b[0;32m\"D\"\u001b[0m\u001b[1;39m\n",
      "      \u001b[1;39m}\u001b[0m\u001b[1;39m\n",
      "    \u001b[1;39m]\u001b[0m\u001b[1;39m\n",
      "  \u001b[1;39m}\u001b[0m\u001b[1;39m,\n",
      "  \u001b[0m\u001b[34;1m\"answerKey\"\u001b[0m\u001b[1;39m: \u001b[0m\u001b[0;32m\"D\"\u001b[0m\u001b[1;39m,\n",
      "  \u001b[0m\u001b[34;1m\"statements\"\u001b[0m\u001b[1;39m: \u001b[0m\u001b[1;39m[\n",
      "    \u001b[1;39m{\n",
      "      \u001b[0m\u001b[34;1m\"label\"\u001b[0m\u001b[1;39m: \u001b[0m\u001b[0;39mfalse\u001b[0m\u001b[1;39m,\n",
      "      \u001b[0m\u001b[34;1m\"statement\"\u001b[0m\u001b[1;39m: \u001b[0m\u001b[0;32m\"The sun is responsible for puppies learning new tricks\"\u001b[0m\u001b[1;39m\n",
      "    \u001b[1;39m}\u001b[0m\u001b[1;39m,\n",
      "    \u001b[1;39m{\n",
      "      \u001b[0m\u001b[34;1m\"label\"\u001b[0m\u001b[1;39m: \u001b[0m\u001b[0;39mfalse\u001b[0m\u001b[1;39m,\n",
      "      \u001b[0m\u001b[34;1m\"statement\"\u001b[0m\u001b[1;39m: \u001b[0m\u001b[0;32m\"The sun is responsible for children growing up and getting old\"\u001b[0m\u001b[1;39m\n",
      "    \u001b[1;39m}\u001b[0m\u001b[1;39m,\n",
      "    \u001b[1;39m{\n",
      "      \u001b[0m\u001b[34;1m\"label\"\u001b[0m\u001b[1;39m: \u001b[0m\u001b[0;39mfalse\u001b[0m\u001b[1;39m,\n",
      "      \u001b[0m\u001b[34;1m\"statement\"\u001b[0m\u001b[1;39m: \u001b[0m\u001b[0;32m\"The sun is responsible for flowers wilting in a vase\"\u001b[0m\u001b[1;39m\n",
      "    \u001b[1;39m}\u001b[0m\u001b[1;39m,\n",
      "    \u001b[1;39m{\n",
      "      \u001b[0m\u001b[34;1m\"label\"\u001b[0m\u001b[1;39m: \u001b[0m\u001b[0;39mtrue\u001b[0m\u001b[1;39m,\n",
      "      \u001b[0m\u001b[34;1m\"statement\"\u001b[0m\u001b[1;39m: \u001b[0m\u001b[0;32m\"The sun is responsible for plants sprouting, blooming and wilting\"\u001b[0m\u001b[1;39m\n",
      "    \u001b[1;39m}\u001b[0m\u001b[1;39m\n",
      "  \u001b[1;39m]\u001b[0m\u001b[1;39m\n",
      "\u001b[1;39m}\u001b[0m\n"
     ]
    }
   ],
   "source": [
    "original_train_statement_path = original_statement_paths['train']\n",
    "!head -n 1 $original_train_statement_path | jq"
   ]
  },
  {
   "attachments": {},
   "cell_type": "markdown",
   "metadata": {},
   "source": [
    "The desired format of statement:\n",
    "```json\n",
    "{\n",
    "    \"id\": \"statement_id\",\n",
    "    \"question\": \"question\",\n",
    "    \"answers\": [\"choice1\", \"choices2\"],\n",
    "    \"context\": \"\",\n",
    "    \"label\": 1  # the correct answer index\n",
    "}\n",
    "```"
   ]
  },
  {
   "cell_type": "code",
   "execution_count": null,
   "metadata": {},
   "outputs": [
    {
     "name": "stderr",
     "output_type": "stream",
     "text": [
      "4957it [00:00, 90679.45it/s]\n",
      "500it [00:00, 94076.44it/s]\n"
     ]
    }
   ],
   "source": [
    "for split in ['train', 'dev']:\n",
    "    original_statements = srsly.read_jsonl(original_statement_paths[split])\n",
    "    processed_statements = []\n",
    "    for statement in tqdm(original_statements):\n",
    "        processed_statement = {\n",
    "            'id': statement['id'],\n",
    "            'question': statement['question']['stem'],\n",
    "            'answers': [choice['text'] for choice in statement['question']['choices']],\n",
    "            'label': 'ABCDE'.index(statement['answerKey'])\n",
    "        }\n",
    "        processed_statements.append(processed_statement)\n",
    "    srsly.write_jsonl(processed_statement_paths[split], processed_statements)"
   ]
  },
  {
   "cell_type": "code",
   "execution_count": null,
   "metadata": {},
   "outputs": [
    {
     "name": "stdout",
     "output_type": "stream",
     "text": [
      "\u001b[1;39m{\n",
      "  \u001b[0m\u001b[34;1m\"id\"\u001b[0m\u001b[1;39m: \u001b[0m\u001b[0;32m\"7-980\"\u001b[0m\u001b[1;39m,\n",
      "  \u001b[0m\u001b[34;1m\"question\"\u001b[0m\u001b[1;39m: \u001b[0m\u001b[0;32m\"The sun is responsible for\"\u001b[0m\u001b[1;39m,\n",
      "  \u001b[0m\u001b[34;1m\"answers\"\u001b[0m\u001b[1;39m: \u001b[0m\u001b[1;39m[\n",
      "    \u001b[0;32m\"puppies learning new tricks\"\u001b[0m\u001b[1;39m,\n",
      "    \u001b[0;32m\"children growing up and getting old\"\u001b[0m\u001b[1;39m,\n",
      "    \u001b[0;32m\"flowers wilting in a vase\"\u001b[0m\u001b[1;39m,\n",
      "    \u001b[0;32m\"plants sprouting, blooming and wilting\"\u001b[0m\u001b[1;39m\n",
      "  \u001b[1;39m]\u001b[0m\u001b[1;39m,\n",
      "  \u001b[0m\u001b[34;1m\"label\"\u001b[0m\u001b[1;39m: \u001b[0m\u001b[0;39m3\u001b[0m\u001b[1;39m\n",
      "\u001b[1;39m}\u001b[0m\n"
     ]
    }
   ],
   "source": [
    "!head -n 1 data/obqa/statement/train.statement.jsonl | jq"
   ]
  },
  {
   "attachments": {},
   "cell_type": "markdown",
   "metadata": {},
   "source": [
    "## 2. Convert Subgraph\n",
    "\n",
    "Desired format is a tuple of `(adj, nodes, qmask, amask)`. Each subgraph is stored in a separate file named as `[its id].pkl`."
   ]
  },
  {
   "cell_type": "code",
   "execution_count": null,
   "metadata": {},
   "outputs": [
    {
     "name": "stderr",
     "output_type": "stream",
     "text": [
      "/tmp/ipykernel_897876/3656158629.py:4: DeprecationWarning: Please use `coo_matrix` from the `scipy.sparse` namespace, the `scipy.sparse.coo` namespace is deprecated.\n",
      "  subgraphs = pickle.load(f)\n",
      "4957it [00:00, 10616.69it/s]\n",
      "500it [00:00, 8478.03it/s]\n"
     ]
    }
   ],
   "source": [
    "num_choices = 4\n",
    "for split in ['train', 'dev']:\n",
    "    with open(original_subgraph_paths[split], 'rb') as f:\n",
    "        subgraphs = pickle.load(f)\n",
    "    statements = srsly.read_jsonl(processed_statement_paths[split])\n",
    "    Path(processed_subgraph_dir[split]).mkdir(parents=True, exist_ok=True)\n",
    "    for subgraph, statement in tqdm(zip(subgraphs[::num_choices], statements)):\n",
    "        subgraph = (subgraph['adj'], subgraph['concepts'], subgraph['qmask'], subgraph['amask'])\n",
    "        with open(os.path.join(processed_subgraph_dir[split], statement['id'] + '.pkl'), 'wb') as f:\n",
    "            pickle.dump(subgraph, f)"
   ]
  },
  {
   "attachments": {},
   "cell_type": "markdown",
   "metadata": {},
   "source": [
    "## 3. Create sanity Check Dataset\n",
    "\n",
    "I choose the first 192 statements as the sanity check dataset. The format is the same as the statement dataset."
   ]
  },
  {
   "cell_type": "code",
   "execution_count": null,
   "metadata": {},
   "outputs": [],
   "source": [
    "sanity_statement_path = 'data/obqa_sanity/statement/train.statement.jsonl'\n",
    "sanity_subgraph_path = 'data/obqa_sanity/adj/train/'\n",
    "n_sanity = 192"
   ]
  },
  {
   "cell_type": "code",
   "execution_count": null,
   "metadata": {},
   "outputs": [],
   "source": [
    "processed_train_statements = iter(srsly.read_jsonl(processed_statement_paths['train']))\n",
    "sainty_statements = []\n",
    "for _ in range(n_sanity):\n",
    "    statement = next(processed_train_statements)\n",
    "    sainty_statements.append(statement)\n",
    "    os.link(os.path.join(processed_subgraph_dir['train'], statement['id'] + '.pkl'),\n",
    "            os.path.join(sanity_subgraph_path, statement['id'] + '.pkl'))\n",
    "srsly.write_jsonl(sanity_statement_path, sainty_statements)"
   ]
  },
  {
   "attachments": {},
   "cell_type": "markdown",
   "metadata": {},
   "source": [
    "## 4. Create OBQA Pretrain dataset"
   ]
  },
  {
   "attachments": {},
   "cell_type": "markdown",
   "metadata": {},
   "source": [
    "In the OBQA data, there is a fact associated with each OBQA statement. We pretrain the model by asking the model to output the fact given the subgraph.\n",
    "\n",
    "The format of the statement:\n",
    "```json\n",
    "{\n",
    "  \"id\": \"train-5ee1ace4\",\n",
    "  \"context\": \"The award was originally sculpted by George Stanley from a design sketch by Cedric Gibbons. AMPAS first presented it in 1929 at a private dinner hosted by Douglas Fairbanks in the Hollywood Roosevelt Hotel. The Academy Awards ceremony was first broadcast on radio in 1930 and televised for the first time in 1953. It is the oldest worldwide entertainment awards ceremony and is now seen live worldwide. Its equivalents – the Emmy Awards for television, the Tony Awards for theater, and the Grammy Awards for music – are modeled after the Academy Awards.\",\n",
    "  \"question\": \"\",\n",
    "  \"answers\": []\n",
    "}\n",
    "```"
   ]
  },
  {
   "cell_type": "code",
   "execution_count": null,
   "metadata": {},
   "outputs": [],
   "source": [
    "original_fact_statement_paths = {\n",
    "    'train': 'data/obqa/statement_origin/train-fact.statement.jsonl',\n",
    "    'dev': 'data/obqa/statement_origin/dev-fact.statement.jsonl'\n",
    "}\n",
    "processed_pretrain_statement_paths = {\n",
    "    'train': 'data/obqa_pretrain/statement/train.statement.jsonl',\n",
    "    'dev': 'data/obqa_pretrain/statement/dev.statement.jsonl'\n",
    "}"
   ]
  },
  {
   "cell_type": "code",
   "execution_count": null,
   "metadata": {},
   "outputs": [],
   "source": [
    "for split in ['train', 'dev']:\n",
    "    original_statements = srsly.read_jsonl(original_fact_statement_paths[split])\n",
    "    processed_statements = []\n",
    "    for statement in tqdm(original_statements):\n",
    "        processed_statement = {\n",
    "            'id': statement['id'],\n",
    "            'question': statement['question']['stem'],\n",
    "            'answers': [],\n",
    "            'context': statement['fact1'],\n",
    "        }\n",
    "        processed_statements.append(processed_statement)\n",
    "    srsly.write_jsonl(processed_pretrain_statement_paths[split], processed_statements)"
   ]
  }
 ],
 "metadata": {
  "kernelspec": {
   "display_name": "dragon",
   "language": "python",
   "name": "python3"
  },
  "language_info": {
   "codemirror_mode": {
    "name": "ipython",
    "version": 3
   },
   "file_extension": ".py",
   "mimetype": "text/x-python",
   "name": "python",
   "nbconvert_exporter": "python",
   "pygments_lexer": "ipython3",
   "version": "3.8.15"
  }
 },
 "nbformat": 4,
 "nbformat_minor": 2
}
